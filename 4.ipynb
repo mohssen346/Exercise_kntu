{
 "cells": [
  {
   "cell_type": "code",
   "execution_count": 105,
   "id": "0da6ce18",
   "metadata": {},
   "outputs": [
    {
     "name": "stdout",
     "output_type": "stream",
     "text": [
      "1 >>> 2 \n",
      "5 >>> 1 \n",
      "6 >>> 2 \n",
      "pooya >>> 2 \n",
      "s >>> 2 \n"
     ]
    }
   ],
   "source": [
    "example = [1,5,6,6,'pooya',1,'s','s','pooya']\n",
    "\n",
    "\n",
    "t=[]\n",
    "c=[]\n",
    "b=[]\n",
    "\n",
    "for x in example:\n",
    "    count=0\n",
    "    for y in example:\n",
    "        if x==y:\n",
    "            count+=1\n",
    "        b.append(count)\n",
    "        d=max(b)\n",
    "    c.append(d)\n",
    "    del b[:]\n",
    "    s=c[-1]\n",
    "    t.append(s)\n",
    "    dictionary = dict(zip(example, t))\n",
    "    \n",
    "u=dictionary\n",
    "p=[]\n",
    "o=[]\n",
    "\n",
    "p=list(u.keys())\n",
    "o=list(u.values())\n",
    "\n",
    "for i in range(len(p)):\n",
    "    print(f\"{p[i]} >>> {o[i]} \")\n",
    "\n"
   ]
  }
 ],
 "metadata": {
  "kernelspec": {
   "display_name": "Python 3",
   "language": "python",
   "name": "python3"
  },
  "language_info": {
   "codemirror_mode": {
    "name": "ipython",
    "version": 3
   },
   "file_extension": ".py",
   "mimetype": "text/x-python",
   "name": "python",
   "nbconvert_exporter": "python",
   "pygments_lexer": "ipython3",
   "version": "3.6.5"
  }
 },
 "nbformat": 4,
 "nbformat_minor": 5
}
