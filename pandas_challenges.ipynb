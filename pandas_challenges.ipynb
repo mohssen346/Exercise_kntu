{
 "cells": [
  {
   "cell_type": "markdown",
   "metadata": {},
   "source": [
    "# Pandas Tasks and Challenges"
   ]
  },
  {
   "cell_type": "markdown",
   "metadata": {},
   "source": [
    "### Task 1:\n",
    "    Open file heights_weights_genders using open function and convert the males/Males to 0 and females/Females to 1\n",
    "    Note: Do not use pandas dataframes... "
   ]
  },
  {
   "cell_type": "code",
   "execution_count": 11,
   "metadata": {},
   "outputs": [],
   "source": [
    "import pandas as pd"
   ]
  },
  {
   "cell_type": "code",
   "execution_count": 28,
   "metadata": {},
   "outputs": [
    {
     "data": {
      "text/plain": [
       "['\"Gender\",\"Height\",\"Weight\"\\n',\n",
       " '\"Male\",73.847017017515,241.893563180437\\n',\n",
       " '\"Male\",68.7819040458903,162.310472521300\\n',\n",
       " '\"Male\",74.1101053917849,212.7408555565\\n',\n",
       " '\"Male\",71.7309784033377,220.042470303077\\n',\n",
       " '\"Male\",69.8817958611153,206.349800623871\\n',\n",
       " '\"Male\",67.2530156878065,152.212155757083\\n',\n",
       " '\"Male\",68.7850812516616,183.927888604031\\n',\n",
       " '\"Male\",68.3485155115879,167.971110489509\\n',\n",
       " '\"Male\",67.018949662883,175.92944039571\\n',\n",
       " '\"Male\",63.4564939783664,156.399676387112\\n',\n",
       " '\"Male\",71.1953822829745,186.604925560358\\n',\n",
       " '\"Male\",71.6408051192206,213.741169489411\\n',\n",
       " '\"Male\",64.7663291334055,167.127461073476\\n',\n",
       " '\"Male\",69.2830700967204,189.446181386738\\n',\n",
       " '\"Male\",69.2437322298112,186.434168021239\\n',\n",
       " '\"Male\",67.6456197004212,172.186930058117\\n',\n",
       " '\"Male\",72.4183166259878,196.028506330482\\n',\n",
       " '\"Male\",63.974325721061,172.883470208780\\n',\n",
       " '\"Male\",69.6400598997523,185.983957573130\\n']"
      ]
     },
     "execution_count": 28,
     "metadata": {},
     "output_type": "execute_result"
    }
   ],
   "source": [
    "# how to read content of the file\n",
    "with open('files/heights_weights_genders.csv') as file:\n",
    "    lines = file.readlines()\n",
    "\n",
    "lines[:20]"
   ]
  },
  {
   "cell_type": "code",
   "execution_count": 29,
   "metadata": {},
   "outputs": [
    {
     "data": {
      "text/plain": [
       "['0,73.847017017515,241.893563180437\\n',\n",
       " '0,68.7819040458903,162.310472521300\\n',\n",
       " '0,74.1101053917849,212.7408555565\\n',\n",
       " '0,71.7309784033377,220.042470303077\\n',\n",
       " '0,69.8817958611153,206.349800623871\\n',\n",
       " '0,67.2530156878065,152.212155757083\\n',\n",
       " '0,68.7850812516616,183.927888604031\\n',\n",
       " '0,68.3485155115879,167.971110489509\\n',\n",
       " '0,67.018949662883,175.92944039571\\n',\n",
       " '0,63.4564939783664,156.399676387112\\n',\n",
       " '0,71.1953822829745,186.604925560358\\n',\n",
       " '0,71.6408051192206,213.741169489411\\n',\n",
       " '0,64.7663291334055,167.127461073476\\n',\n",
       " '0,69.2830700967204,189.446181386738\\n',\n",
       " '0,69.2437322298112,186.434168021239\\n',\n",
       " '0,67.6456197004212,172.186930058117\\n',\n",
       " '0,72.4183166259878,196.028506330482\\n',\n",
       " '0,63.974325721061,172.883470208780\\n',\n",
       " '0,69.6400598997523,185.983957573130\\n',\n",
       " '0,67.9360048540095,182.426648013226\\n']"
      ]
     },
     "execution_count": 29,
     "metadata": {},
     "output_type": "execute_result"
    }
   ],
   "source": [
    "# answer\n",
    "# how to read content of the file\n",
    "with open('files/heights_weights_genders.csv') as file:\n",
    "    lines = file.readlines()\n",
    "lines_list=list(lines)\n",
    "\n",
    "lines_list_Final=[]\n",
    "\n",
    "for i in range(len(lines_list)):\n",
    "    if (lines_list[i][1]) ==\"M\":\n",
    "        lines_list_M= lines_list[i][0:0]+\"0\"+lines_list[i][6:]\n",
    "        lines_list_Final.append(lines_list_M)\n",
    "    elif (lines_list[i][1]) ==\"F\":\n",
    "        lines_list_F= lines_list[i][0:0]+\"1\"+lines_list[i][8:]\n",
    "        lines_list_Final.append(lines_list_F)\n",
    "\n",
    "lines_list_Final[:20]"
   ]
  },
  {
   "cell_type": "markdown",
   "metadata": {},
   "source": [
    "### Task 2:\n",
    "    Do the previous using pandas dataframes..."
   ]
  },
  {
   "cell_type": "code",
   "execution_count": 27,
   "metadata": {},
   "outputs": [
    {
     "name": "stderr",
     "output_type": "stream",
     "text": [
      "C:\\Users\\irit\\anaconda3\\envs\\env371\\lib\\site-packages\\ipykernel_launcher.py:7: SettingWithCopyWarning: \n",
      "A value is trying to be set on a copy of a slice from a DataFrame\n",
      "\n",
      "See the caveats in the documentation: https://pandas.pydata.org/pandas-docs/stable/user_guide/indexing.html#returning-a-view-versus-a-copy\n",
      "  import sys\n",
      "C:\\Users\\irit\\anaconda3\\envs\\env371\\lib\\site-packages\\ipykernel_launcher.py:9: SettingWithCopyWarning: \n",
      "A value is trying to be set on a copy of a slice from a DataFrame\n",
      "\n",
      "See the caveats in the documentation: https://pandas.pydata.org/pandas-docs/stable/user_guide/indexing.html#returning-a-view-versus-a-copy\n",
      "  if __name__ == '__main__':\n"
     ]
    },
    {
     "data": {
      "text/html": [
       "<div>\n",
       "<style scoped>\n",
       "    .dataframe tbody tr th:only-of-type {\n",
       "        vertical-align: middle;\n",
       "    }\n",
       "\n",
       "    .dataframe tbody tr th {\n",
       "        vertical-align: top;\n",
       "    }\n",
       "\n",
       "    .dataframe thead th {\n",
       "        text-align: right;\n",
       "    }\n",
       "</style>\n",
       "<table border=\"1\" class=\"dataframe\">\n",
       "  <thead>\n",
       "    <tr style=\"text-align: right;\">\n",
       "      <th></th>\n",
       "      <th>Gender</th>\n",
       "      <th>Height</th>\n",
       "      <th>Weight</th>\n",
       "    </tr>\n",
       "  </thead>\n",
       "  <tbody>\n",
       "    <tr>\n",
       "      <th>0</th>\n",
       "      <td>0</td>\n",
       "      <td>73.847017</td>\n",
       "      <td>241.893563</td>\n",
       "    </tr>\n",
       "    <tr>\n",
       "      <th>1</th>\n",
       "      <td>0</td>\n",
       "      <td>68.781904</td>\n",
       "      <td>162.310473</td>\n",
       "    </tr>\n",
       "    <tr>\n",
       "      <th>2</th>\n",
       "      <td>0</td>\n",
       "      <td>74.110105</td>\n",
       "      <td>212.740856</td>\n",
       "    </tr>\n",
       "    <tr>\n",
       "      <th>3</th>\n",
       "      <td>0</td>\n",
       "      <td>71.730978</td>\n",
       "      <td>220.042470</td>\n",
       "    </tr>\n",
       "    <tr>\n",
       "      <th>4</th>\n",
       "      <td>0</td>\n",
       "      <td>69.881796</td>\n",
       "      <td>206.349801</td>\n",
       "    </tr>\n",
       "  </tbody>\n",
       "</table>\n",
       "</div>"
      ],
      "text/plain": [
       "  Gender     Height      Weight\n",
       "0      0  73.847017  241.893563\n",
       "1      0  68.781904  162.310473\n",
       "2      0  74.110105  212.740856\n",
       "3      0  71.730978  220.042470\n",
       "4      0  69.881796  206.349801"
      ]
     },
     "execution_count": 27,
     "metadata": {},
     "output_type": "execute_result"
    }
   ],
   "source": [
    "# answer\n",
    "\n",
    "hight_df=pd.read_csv(\"files/heights_weights_genders.csv\")\n",
    "\n",
    "for i in range(len(hight_df[\"Gender\"])):\n",
    "    if hight_df[\"Gender\"][i] == \"Male\":\n",
    "        hight_df[\"Gender\"][i]=0\n",
    "    elif hight_df[\"Gender\"][i] == \"Female\":\n",
    "        hight_df[\"Gender\"][i]=1\n",
    "        \n",
    "hight_df.head()\n",
    "\n"
   ]
  },
  {
   "cell_type": "markdown",
   "metadata": {},
   "source": [
    "### Task 3:\n",
    "    Check whether mens are heavier or women"
   ]
  },
  {
   "cell_type": "code",
   "execution_count": 14,
   "metadata": {},
   "outputs": [
    {
     "name": "stdout",
     "output_type": "stream",
     "text": [
      "mean male : 187.0206206581932\n",
      "mean female : 135.86009300746835 \n"
     ]
    }
   ],
   "source": [
    "# answer\n",
    "import numpy as np\n",
    "import pandas as pd\n",
    "import statistics\n",
    "\n",
    "hight_df=pd.read_csv(\"files/heights_weights_genders.csv\")\n",
    "\n",
    "male=[]\n",
    "female=[]\n",
    "for i in range(len(hight_df[\"Gender\"])):\n",
    "    if hight_df[\"Gender\"][i] == \"Male\":\n",
    "        male.append(hight_df[\"Weight\"][i])\n",
    "    elif hight_df[\"Gender\"][i] == \"Female\":\n",
    "        female.append(hight_df[\"Weight\"][i])\n",
    "        \n",
    "print(f\"mean male : {statistics.mean(male)}\\nmean female : {statistics.mean(female)} \")"
   ]
  },
  {
   "cell_type": "markdown",
   "metadata": {},
   "source": [
    "### Task 4:\n",
    "    Read the tips file and check whether males pay more tips or females"
   ]
  },
  {
   "cell_type": "code",
   "execution_count": 15,
   "metadata": {},
   "outputs": [
    {
     "data": {
      "text/html": [
       "<div>\n",
       "<style scoped>\n",
       "    .dataframe tbody tr th:only-of-type {\n",
       "        vertical-align: middle;\n",
       "    }\n",
       "\n",
       "    .dataframe tbody tr th {\n",
       "        vertical-align: top;\n",
       "    }\n",
       "\n",
       "    .dataframe thead th {\n",
       "        text-align: right;\n",
       "    }\n",
       "</style>\n",
       "<table border=\"1\" class=\"dataframe\">\n",
       "  <thead>\n",
       "    <tr style=\"text-align: right;\">\n",
       "      <th></th>\n",
       "      <th>total_bill</th>\n",
       "      <th>tip</th>\n",
       "      <th>sex</th>\n",
       "      <th>smoker</th>\n",
       "      <th>day</th>\n",
       "      <th>time</th>\n",
       "      <th>size</th>\n",
       "    </tr>\n",
       "  </thead>\n",
       "  <tbody>\n",
       "    <tr>\n",
       "      <th>0</th>\n",
       "      <td>16.99</td>\n",
       "      <td>1.01</td>\n",
       "      <td>Female</td>\n",
       "      <td>No</td>\n",
       "      <td>Sun</td>\n",
       "      <td>Dinner</td>\n",
       "      <td>2</td>\n",
       "    </tr>\n",
       "    <tr>\n",
       "      <th>1</th>\n",
       "      <td>10.34</td>\n",
       "      <td>1.66</td>\n",
       "      <td>Male</td>\n",
       "      <td>No</td>\n",
       "      <td>Sun</td>\n",
       "      <td>Dinner</td>\n",
       "      <td>3</td>\n",
       "    </tr>\n",
       "    <tr>\n",
       "      <th>2</th>\n",
       "      <td>21.01</td>\n",
       "      <td>3.50</td>\n",
       "      <td>Male</td>\n",
       "      <td>No</td>\n",
       "      <td>Sun</td>\n",
       "      <td>Dinner</td>\n",
       "      <td>3</td>\n",
       "    </tr>\n",
       "    <tr>\n",
       "      <th>3</th>\n",
       "      <td>23.68</td>\n",
       "      <td>3.31</td>\n",
       "      <td>Male</td>\n",
       "      <td>No</td>\n",
       "      <td>Sun</td>\n",
       "      <td>Dinner</td>\n",
       "      <td>2</td>\n",
       "    </tr>\n",
       "    <tr>\n",
       "      <th>4</th>\n",
       "      <td>24.59</td>\n",
       "      <td>3.61</td>\n",
       "      <td>Female</td>\n",
       "      <td>No</td>\n",
       "      <td>Sun</td>\n",
       "      <td>Dinner</td>\n",
       "      <td>4</td>\n",
       "    </tr>\n",
       "  </tbody>\n",
       "</table>\n",
       "</div>"
      ],
      "text/plain": [
       "   total_bill   tip     sex smoker  day    time  size\n",
       "0       16.99  1.01  Female     No  Sun  Dinner     2\n",
       "1       10.34  1.66    Male     No  Sun  Dinner     3\n",
       "2       21.01  3.50    Male     No  Sun  Dinner     3\n",
       "3       23.68  3.31    Male     No  Sun  Dinner     2\n",
       "4       24.59  3.61  Female     No  Sun  Dinner     4"
      ]
     },
     "execution_count": 15,
     "metadata": {},
     "output_type": "execute_result"
    }
   ],
   "source": [
    "import pandas as pd\n",
    "tips_df = pd.read_csv('files/tips.csv')\n",
    "tips_df.head()"
   ]
  },
  {
   "cell_type": "code",
   "execution_count": 17,
   "metadata": {},
   "outputs": [
    {
     "data": {
      "text/html": [
       "<div>\n",
       "<style scoped>\n",
       "    .dataframe tbody tr th:only-of-type {\n",
       "        vertical-align: middle;\n",
       "    }\n",
       "\n",
       "    .dataframe tbody tr th {\n",
       "        vertical-align: top;\n",
       "    }\n",
       "\n",
       "    .dataframe thead th {\n",
       "        text-align: right;\n",
       "    }\n",
       "</style>\n",
       "<table border=\"1\" class=\"dataframe\">\n",
       "  <thead>\n",
       "    <tr style=\"text-align: right;\">\n",
       "      <th></th>\n",
       "      <th>total_bill</th>\n",
       "      <th>tip</th>\n",
       "      <th>size</th>\n",
       "    </tr>\n",
       "    <tr>\n",
       "      <th>sex</th>\n",
       "      <th></th>\n",
       "      <th></th>\n",
       "      <th></th>\n",
       "    </tr>\n",
       "  </thead>\n",
       "  <tbody>\n",
       "    <tr>\n",
       "      <th>Female</th>\n",
       "      <td>18.056897</td>\n",
       "      <td>2.833448</td>\n",
       "      <td>2.459770</td>\n",
       "    </tr>\n",
       "    <tr>\n",
       "      <th>Male</th>\n",
       "      <td>20.744076</td>\n",
       "      <td>3.089618</td>\n",
       "      <td>2.630573</td>\n",
       "    </tr>\n",
       "  </tbody>\n",
       "</table>\n",
       "</div>"
      ],
      "text/plain": [
       "        total_bill       tip      size\n",
       "sex                                   \n",
       "Female   18.056897  2.833448  2.459770\n",
       "Male     20.744076  3.089618  2.630573"
      ]
     },
     "execution_count": 17,
     "metadata": {},
     "output_type": "execute_result"
    }
   ],
   "source": [
    "# answer\n",
    "\n",
    "import pandas as pd\n",
    "tips_df = pd.read_csv('files/tips.csv')\n",
    "mean = tips_df.groupby(['sex']).mean()\n",
    "mean"
   ]
  },
  {
   "cell_type": "markdown",
   "metadata": {},
   "source": [
    "### Task:\n",
    "    Compute the average tips people give for different meals\n",
    "    Note:\n",
    "        Your program should not be static. As an example, if a dataframe with three meals were to be given to your code/function, it should be able to work properly without raising any errors or requirements for extra input.."
   ]
  },
  {
   "cell_type": "code",
   "execution_count": 18,
   "metadata": {
    "scrolled": true
   },
   "outputs": [
    {
     "name": "stdout",
     "output_type": "stream",
     "text": [
      "['Dinner' 'Lunch']\n"
     ]
    }
   ],
   "source": [
    "different_meals = tips_df['time'].unique()\n",
    "print(different_meals)"
   ]
  },
  {
   "cell_type": "code",
   "execution_count": 19,
   "metadata": {},
   "outputs": [
    {
     "data": {
      "text/html": [
       "<div>\n",
       "<style scoped>\n",
       "    .dataframe tbody tr th:only-of-type {\n",
       "        vertical-align: middle;\n",
       "    }\n",
       "\n",
       "    .dataframe tbody tr th {\n",
       "        vertical-align: top;\n",
       "    }\n",
       "\n",
       "    .dataframe thead th {\n",
       "        text-align: right;\n",
       "    }\n",
       "</style>\n",
       "<table border=\"1\" class=\"dataframe\">\n",
       "  <thead>\n",
       "    <tr style=\"text-align: right;\">\n",
       "      <th></th>\n",
       "      <th>total_bill</th>\n",
       "      <th>tip</th>\n",
       "      <th>size</th>\n",
       "    </tr>\n",
       "    <tr>\n",
       "      <th>time</th>\n",
       "      <th></th>\n",
       "      <th></th>\n",
       "      <th></th>\n",
       "    </tr>\n",
       "  </thead>\n",
       "  <tbody>\n",
       "    <tr>\n",
       "      <th>Dinner</th>\n",
       "      <td>20.797159</td>\n",
       "      <td>3.102670</td>\n",
       "      <td>2.630682</td>\n",
       "    </tr>\n",
       "    <tr>\n",
       "      <th>Lunch</th>\n",
       "      <td>17.168676</td>\n",
       "      <td>2.728088</td>\n",
       "      <td>2.411765</td>\n",
       "    </tr>\n",
       "  </tbody>\n",
       "</table>\n",
       "</div>"
      ],
      "text/plain": [
       "        total_bill       tip      size\n",
       "time                                  \n",
       "Dinner   20.797159  3.102670  2.630682\n",
       "Lunch    17.168676  2.728088  2.411765"
      ]
     },
     "execution_count": 19,
     "metadata": {},
     "output_type": "execute_result"
    }
   ],
   "source": [
    "import pandas as pd\n",
    "tips_df = pd.read_csv('files/tips.csv')\n",
    "mean = tips_df.groupby([\"time\"]).mean()\n",
    "mean"
   ]
  },
  {
   "cell_type": "markdown",
   "metadata": {},
   "source": [
    "### Task:\n",
    "    Which day of the week do smokers like the better?"
   ]
  },
  {
   "cell_type": "code",
   "execution_count": 20,
   "metadata": {},
   "outputs": [
    {
     "data": {
      "text/plain": [
       "array(['Sun', 'Sat', 'Thur', 'Fri'], dtype=object)"
      ]
     },
     "execution_count": 20,
     "metadata": {},
     "output_type": "execute_result"
    }
   ],
   "source": [
    "tips_df = pd.read_csv('files/tips.csv')\n",
    "tips_df['day'].unique()"
   ]
  },
  {
   "cell_type": "code",
   "execution_count": 168,
   "metadata": {},
   "outputs": [
    {
     "name": "stdout",
     "output_type": "stream",
     "text": [
      "sat num : 87\n",
      "san num : 0\n",
      "thur num : 62 \n",
      "fri num : 19 \n"
     ]
    }
   ],
   "source": [
    "# answer\n",
    "\n",
    "import pandas as pd\n",
    "\n",
    "tips_df = pd.read_csv('files/tips.csv')\n",
    "\n",
    "\n",
    "sat=[]\n",
    "sun=[]\n",
    "thur=[]\n",
    "fri=[]\n",
    "\n",
    "for i in range(len(tips_df)):\n",
    "    if tips_df[\"day\"][i] == \"Sat\":\n",
    "        sat.append(tips_df[\"day\"][i])\n",
    "    elif tips_df[\"day\"][i] == \"Female\":\n",
    "        sun.append(tips_df[\"day\"][i])\n",
    "    elif tips_df[\"day\"][i] == \"Thur\":\n",
    "        thur.append(tips_df[\"day\"][i])\n",
    "    elif tips_df[\"day\"][i] == \"Fri\":\n",
    "        fri.append(tips_df[\"day\"][i])\n",
    "        \n",
    "\n",
    "print(f\"sat num : {len(sat)}\\nsan num : {len(sun)}\\nthur num : {len(thur)} \\nfri num : {len(fri)} \")"
   ]
  },
  {
   "cell_type": "markdown",
   "metadata": {},
   "source": [
    "### Task:\n",
    "    compute the sum of tips( or any other column) paid by 4 different groups (Smoker-males, non-smoker-males, smoker-females, and non-smoker-females)\n",
    "    It's better to create a function to handle this task.\n",
    "    Note: you are not allowed to use group by and other out of the box functionalities.\n",
    "    Just: use dataframes and iterate over them ..."
   ]
  },
  {
   "cell_type": "code",
   "execution_count": 21,
   "metadata": {},
   "outputs": [
    {
     "name": "stdout",
     "output_type": "stream",
     "text": [
      "Smoker-males : 183.07\n",
      "non-smoker-males : 302.0\n",
      "smoker-females : 96.74 \n",
      "non-smoker-females : 149.77\n"
     ]
    }
   ],
   "source": [
    "# answer\n",
    "\n",
    "import pandas as pd\n",
    "\n",
    "tips_df = pd.read_csv('files/tips.csv')\n",
    "\n",
    "Smoker_males=[]\n",
    "non_smoker_males=[]\n",
    "smoker_females=[]\n",
    "non_smoker_females=[]\n",
    "\n",
    "for i in range(len(tips_df)):\n",
    "    if tips_df[\"sex\"][i] == \"Male\" and tips_df[\"smoker\"][i] == \"Yes\":\n",
    "        Smoker_males.append(tips_df[\"tip\"][i])\n",
    "    elif tips_df[\"sex\"][i] == \"Male\" and tips_df[\"smoker\"][i] == \"No\":\n",
    "        non_smoker_males.append(tips_df[\"tip\"][i])\n",
    "    elif tips_df[\"sex\"][i] == \"Female\" and tips_df[\"smoker\"][i] == \"Yes\":\n",
    "        smoker_females.append(tips_df[\"tip\"][i])\n",
    "    elif tips_df[\"sex\"][i] == \"Female\" and tips_df[\"smoker\"][i] == \"No\":\n",
    "        non_smoker_females.append(tips_df[\"tip\"][i])\n",
    "        \n",
    "print(f\"Smoker-males : {sum(Smoker_males)}\\nnon-smoker-males : {sum(non_smoker_males)}\\nsmoker-females : {sum(smoker_females)} \\nnon-smoker-females : {sum(non_smoker_females)}\")\n"
   ]
  },
  {
   "cell_type": "markdown",
   "metadata": {},
   "source": [
    "*:)*"
   ]
  }
 ],
 "metadata": {
  "kernelspec": {
   "display_name": "Python 3",
   "language": "python",
   "name": "python3"
  },
  "language_info": {
   "codemirror_mode": {
    "name": "ipython",
    "version": 3
   },
   "file_extension": ".py",
   "mimetype": "text/x-python",
   "name": "python",
   "nbconvert_exporter": "python",
   "pygments_lexer": "ipython3",
   "version": "3.7.13"
  }
 },
 "nbformat": 4,
 "nbformat_minor": 2
}
