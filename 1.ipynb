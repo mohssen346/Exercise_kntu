{
 "cells": [
  {
   "cell_type": "code",
   "execution_count": 35,
   "id": "4982446b",
   "metadata": {},
   "outputs": [
    {
     "name": "stdout",
     "output_type": "stream",
     "text": [
      "Enter list: [11,pooya,10,10.5]\n",
      "['11', '10']\n"
     ]
    }
   ],
   "source": [
    "B=[]\n",
    "A=input(\"Enter list: \")\n",
    "\n",
    "D= A[1:-1].split(\",\")\n",
    "\n",
    "for x in D:\n",
    "    if str.isnumeric(x):\n",
    "        B.append(x)\n",
    "print(B)"
   ]
  }
 ],
 "metadata": {
  "kernelspec": {
   "display_name": "Python 3",
   "language": "python",
   "name": "python3"
  },
  "language_info": {
   "codemirror_mode": {
    "name": "ipython",
    "version": 3
   },
   "file_extension": ".py",
   "mimetype": "text/x-python",
   "name": "python",
   "nbconvert_exporter": "python",
   "pygments_lexer": "ipython3",
   "version": "3.6.5"
  }
 },
 "nbformat": 4,
 "nbformat_minor": 5
}
