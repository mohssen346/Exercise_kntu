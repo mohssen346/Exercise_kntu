{
 "cells": [
  {
   "cell_type": "code",
   "execution_count": 2,
   "metadata": {},
   "outputs": [],
   "source": [
    "import numpy as np"
   ]
  },
  {
   "cell_type": "markdown",
   "metadata": {},
   "source": [
    "1. Write a NumPy program to create a 5x5 array with random values and find the minimum and maximum values."
   ]
  },
  {
   "cell_type": "code",
   "execution_count": 4,
   "metadata": {},
   "outputs": [
    {
     "name": "stdout",
     "output_type": "stream",
     "text": [
      "maxamum=0.9896495363388508 \n",
      "minimum=0.01164589372361946\n"
     ]
    }
   ],
   "source": [
    "# answer\n",
    "\n",
    "array_1=np.random.random([5,5])\n",
    "max_1=np.max(array_1)\n",
    "min_1=np.min(array_1)\n",
    "print(f\"maxamum={max_1} \\nminimum={min_1}\")"
   ]
  },
  {
   "cell_type": "markdown",
   "metadata": {},
   "source": [
    "2. Write a NumPy program to create a random 10x4 array and extract the first five rows of the array and store them into a variable."
   ]
  },
  {
   "cell_type": "code",
   "execution_count": 5,
   "metadata": {},
   "outputs": [
    {
     "name": "stdout",
     "output_type": "stream",
     "text": [
      "[[0.95602434 0.2398077  0.56777431 0.15858273]\n",
      " [0.48234271 0.07970231 0.38669049 0.51925043]\n",
      " [0.73556038 0.25804533 0.51853037 0.23014954]\n",
      " [0.40308009 0.39996677 0.19828707 0.41642907]\n",
      " [0.38330301 0.10205393 0.24216957 0.88543059]]\n"
     ]
    }
   ],
   "source": [
    "# answer\n",
    "array_1=np.random.random([10,4])\n",
    "array_2=array_1[0:5,:]\n",
    "print(array_2)"
   ]
  },
  {
   "cell_type": "markdown",
   "metadata": {},
   "source": [
    "3. Write a NumPy program to create random vector of size 15 and replace the maximum value by -1."
   ]
  },
  {
   "cell_type": "code",
   "execution_count": 6,
   "metadata": {},
   "outputs": [
    {
     "name": "stdout",
     "output_type": "stream",
     "text": [
      "Original array:\n",
      "[0.95604807 0.67277074 0.21854942 0.96537925 0.43222995 0.34536534\n",
      " 0.03632673 0.9675756  0.20410114 0.80879535 0.31839591 0.27443843\n",
      " 0.47199339 0.70240194 0.86450274]\n",
      "Maximum value replaced by -1:\n",
      "[ 0.95604807  0.67277074  0.21854942  0.96537925  0.43222995  0.34536534\n",
      "  0.03632673 -1.          0.20410114  0.80879535  0.31839591  0.27443843\n",
      "  0.47199339  0.70240194  0.86450274]\n"
     ]
    }
   ],
   "source": [
    "# answer\n",
    "x = np.random.random(15)\n",
    "print(\"Original array:\")\n",
    "print(x)\n",
    "x[x.argmax()] = -1\n",
    "print(\"Maximum value replaced by -1:\")\n",
    "print(x)"
   ]
  },
  {
   "cell_type": "markdown",
   "metadata": {},
   "source": [
    "4. normalize an array so the values range exactly between 0 and 1?"
   ]
  },
  {
   "cell_type": "code",
   "execution_count": 7,
   "metadata": {},
   "outputs": [
    {
     "name": "stdout",
     "output_type": "stream",
     "text": [
      "[[0.1628514  0.07974335 0.01295409 0.02658112 0.13845734 0.01413173\n",
      "  0.02994582 0.09656684 0.11860562 0.158982   0.14737379 0.07907041\n",
      "  0.03633874 0.10733388 0.04861989 0.12348443 0.06174221 0.09909037\n",
      "  0.10127742 0.01598232 0.09353861 0.1377844  0.08310805 0.11254916\n",
      "  0.12129738 0.00857998 0.05080695 0.16100082 0.05804105 0.14299968\n",
      "  0.11187622 0.05568576 0.09084686 0.08731392 0.13929851 0.06308809\n",
      "  0.06207868 0.06005987 0.01312232 0.03667521 0.13660675 0.00538352\n",
      "  0.14249498 0.15847729 0.11305386 0.07015396 0.01564585 0.00757057\n",
      "  0.01800114 0.11238093 0.05080695 0.11053034 0.13458793 0.16083258\n",
      "  0.07250925 0.03162816 0.09084686 0.16789845 0.1098574  0.025067\n",
      "  0.07839747 0.05383517 0.1411491  0.12314796 0.01244938 0.08933274\n",
      "  0.07133161 0.01951525 0.12062444 0.12600795 0.09976331 0.12937265\n",
      "  0.09774449 0.05518105 0.13677499 0.14417732 0.0597234  0.13627028\n",
      "  0.00420587 0.04744225 0.00555175 0.08310805 0.0708269  0.12533501\n",
      "  0.01833761 0.14636438 0.13223265 0.11810091 0.04660107 0.09976331\n",
      "  0.15679494 0.07200454 0.04727401 0.05955516 0.09437979 0.14670085\n",
      "  0.16402905 0.08546334 0.13711146 0.15460789]]\n"
     ]
    }
   ],
   "source": [
    "array = np.random.randint(0, 1000, (1, 100))\n",
    "# answer\n",
    "array_1=np.linalg.norm(array)\n",
    "normlize=array/array_1\n",
    "print(normlize)"
   ]
  },
  {
   "cell_type": "markdown",
   "metadata": {},
   "source": [
    "5. convert an nd array of arrays into a flat 1d array"
   ]
  },
  {
   "cell_type": "code",
   "execution_count": 8,
   "metadata": {},
   "outputs": [
    {
     "data": {
      "text/plain": [
       "array([1, 2, 3, 4, 5, 6])"
      ]
     },
     "execution_count": 8,
     "metadata": {},
     "output_type": "execute_result"
    }
   ],
   "source": [
    "# answer\n",
    "a = np.array([[1,2,3], [4,5,6]])\n",
    "b = a.ravel()\n",
    "b"
   ]
  },
  {
   "cell_type": "markdown",
   "metadata": {},
   "source": [
    "6. from 2010 to 2018 group weekdays and weekends in two lists\n",
    "\n",
    "notes: you are allowed to just use datetime or numpy datetime"
   ]
  },
  {
   "cell_type": "code",
   "execution_count": 17,
   "metadata": {},
   "outputs": [
    {
     "name": "stdout",
     "output_type": "stream",
     "text": [
      "['2010-01-04' '2010-01-05' '2010-01-06' '2010-01-07' '2010-01-08']\n",
      "-----------------------------\n",
      "['2010-01-09' '2010-01-10']\n"
     ]
    }
   ],
   "source": [
    "# answer\n",
    "\n",
    "data_1= np.arange('2010-01', '2018-01', dtype='datetime64[D]')\n",
    "\n",
    "normal_day=[]\n",
    "b=0\n",
    "normal_day.append(data_1[0])\n",
    "for i in data_1:\n",
    "    a= data_1[3+b:8+b]\n",
    "    normal_day.append(a)\n",
    "    b+=7\n",
    "    \n",
    "# print(\"Normal day:\")\n",
    "# for i in range(418):\n",
    "#     print(normal_day[i])\n",
    "\n",
    "print(normal_day[1])\n",
    "    \n",
    "print(\"-----------------------------\")\n",
    "\n",
    "weekends=[]\n",
    "b=0\n",
    "for i in data_1:\n",
    "    a= data_1[1+b:3+b]\n",
    "    weekends.append(a)\n",
    "    b+=7\n",
    "\n",
    "# print(\"weekends:\")\n",
    "# for i in range(418):\n",
    "#     print(weekends[i])\n",
    "        \n",
    "print(weekends[1])\n",
    "\n"
   ]
  },
  {
   "cell_type": "markdown",
   "metadata": {},
   "source": [
    "7. Considering a four dimensions array, how to get sum over the last two axis at once?\n"
   ]
  },
  {
   "cell_type": "code",
   "execution_count": 10,
   "metadata": {},
   "outputs": [
    {
     "name": "stdout",
     "output_type": "stream",
     "text": [
      "[[5.14918722 3.80852435]\n",
      " [3.49322512 3.7425928 ]]\n"
     ]
    }
   ],
   "source": [
    "import numpy as np\n",
    "array = np.random.random((4, 5, 8, 2))\n",
    "a=(array[0:3,0:3,6:9,0:3]).sum(axis=(0,1))\n",
    "print(a)"
   ]
  },
  {
   "cell_type": "markdown",
   "metadata": {},
   "source": [
    "8. Consider 2 points p0, p1 describing a line (2d) and a point p, how to compute distance from p to this line?"
   ]
  },
  {
   "cell_type": "code",
   "execution_count": 12,
   "metadata": {},
   "outputs": [
    {
     "name": "stdout",
     "output_type": "stream",
     "text": [
      "[13.38536563]\n"
     ]
    }
   ],
   "source": [
    "def distance(p0, p1, p):\n",
    "    # answer\n",
    "    d=np.cross(p1-p0,p-p0)/np.linalg.norm(p1-p0)\n",
    "    return d\n",
    "\n",
    "p0 = np.random.uniform(-10, 10, (1, 2))\n",
    "p1 = np.random.uniform(-10, 10, (1, 2))\n",
    "p  = np.random.uniform(-10, 10, (1, 2))\n",
    "\n",
    "print(distance(p0, p1, p))"
   ]
  },
  {
   "cell_type": "markdown",
   "metadata": {},
   "source": [
    "For more exercises check the following link:\n",
    "https://github.com/rougier/numpy-100/blob/master/100_Numpy_exercises.ipynb"
   ]
  },
  {
   "cell_type": "markdown",
   "metadata": {},
   "source": [
    "*:)*"
   ]
  }
 ],
 "metadata": {
  "kernelspec": {
   "display_name": "Python 3",
   "language": "python",
   "name": "python3"
  },
  "language_info": {
   "codemirror_mode": {
    "name": "ipython",
    "version": 3
   },
   "file_extension": ".py",
   "mimetype": "text/x-python",
   "name": "python",
   "nbconvert_exporter": "python",
   "pygments_lexer": "ipython3",
   "version": "3.7.13"
  }
 },
 "nbformat": 4,
 "nbformat_minor": 2
}
