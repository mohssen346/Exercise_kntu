{
 "cells": [
  {
   "cell_type": "code",
   "execution_count": 2,
   "id": "f556a145",
   "metadata": {},
   "outputs": [
    {
     "name": "stdout",
     "output_type": "stream",
     "text": [
      "Enter number1:5\n",
      "Enter number1:10\n",
      "20\n"
     ]
    }
   ],
   "source": [
    "A= int(input(\"Enter number1:\"))\n",
    "B= int(input(\"Enter number1:\"))\n",
    "\n",
    "C=A+B\n",
    "if C>=15 and C<=20:\n",
    "    print(20)\n",
    "else:\n",
    "    print(C)"
   ]
  }
 ],
 "metadata": {
  "kernelspec": {
   "display_name": "Python 3",
   "language": "python",
   "name": "python3"
  },
  "language_info": {
   "codemirror_mode": {
    "name": "ipython",
    "version": 3
   },
   "file_extension": ".py",
   "mimetype": "text/x-python",
   "name": "python",
   "nbconvert_exporter": "python",
   "pygments_lexer": "ipython3",
   "version": "3.6.5"
  }
 },
 "nbformat": 4,
 "nbformat_minor": 5
}
