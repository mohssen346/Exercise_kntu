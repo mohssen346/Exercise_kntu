{
 "cells": [
  {
   "cell_type": "code",
   "execution_count": 4,
   "id": "6a4844d9",
   "metadata": {},
   "outputs": [
    {
     "name": "stdout",
     "output_type": "stream",
     "text": [
      "Enter how many elements of Fibonnaci you want: 6\n",
      "1\n",
      "1\n",
      "2\n",
      "3\n",
      "5\n",
      "8\n"
     ]
    }
   ],
   "source": [
    "# 1, 1, 2, 3, 5, 8, 13, 21, 34, ...\n",
    "\n",
    "number_of_elements = int(input('Enter how many elements of Fibonnaci you want: '))\n",
    "\n",
    "def Fibonnaci1(number_of_elements):\n",
    "\n",
    "    \n",
    "\n",
    "\n",
    "    a1 = 1\n",
    "    a2 = 1\n",
    "    print(a1)\n",
    "    print(a2)\n",
    "\n",
    "    for i in range(number_of_elements - 2):\n",
    "        a3 = a2 + a1\n",
    "        a1 = a2\n",
    "        a2 = a3\n",
    "        print(a3)\n",
    "        \n",
    "Fibonnaci1(number_of_elements)"
   ]
  }
 ],
 "metadata": {
  "kernelspec": {
   "display_name": "Python 3",
   "language": "python",
   "name": "python3"
  },
  "language_info": {
   "codemirror_mode": {
    "name": "ipython",
    "version": 3
   },
   "file_extension": ".py",
   "mimetype": "text/x-python",
   "name": "python",
   "nbconvert_exporter": "python",
   "pygments_lexer": "ipython3",
   "version": "3.6.5"
  }
 },
 "nbformat": 4,
 "nbformat_minor": 5
}
